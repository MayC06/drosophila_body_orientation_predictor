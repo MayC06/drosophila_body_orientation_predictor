{
 "cells": [
  {
   "cell_type": "markdown",
   "id": "2e255348",
   "metadata": {},
   "source": [
    "### Import libraries and custom functions"
   ]
  },
  {
   "cell_type": "code",
   "execution_count": 1,
   "id": "00d7ea18-799d-4653-9d64-c4bd9ad3176e",
   "metadata": {
    "tags": []
   },
   "outputs": [],
   "source": [
    "# libraries\n",
    "import warnings\n",
    "warnings.filterwarnings('ignore')\n",
    "import pandas as pd\n",
    "import numpy as np\n",
    "\n",
    "# custom functions\n",
    "from CleanData import *\n",
    "from MergeData import *\n",
    "from AugmentData import *\n",
    "from CorrectHeading import *\n",
    "from PlotData import *"
   ]
  },
  {
   "cell_type": "markdown",
   "id": "b0de046b",
   "metadata": {},
   "source": [
    "### Correct, augment, and combine data"
   ]
  },
  {
   "cell_type": "code",
   "execution_count": 3,
   "id": "7453e8d2-4a57-46fe-bdcb-fa3de1e5f931",
   "metadata": {
    "tags": []
   },
   "outputs": [],
   "source": [
    "windspeeds = [\"30cms\", \"40cms\", \"60cms\"]\n",
    "\n",
    "for windspeed in windspeeds:\n",
    "    # import data \n",
    "    trajec_df = pd.read_hdf(f\"../ExperimentalData/{windspeed}/flight_trajectories_3d_HCS_odor_horizon_matched.h5\")\n",
    "    body_df = pd.read_hdf(f\"../ExperimentalData/{windspeed}/body_orientations_HCS_odor_horizon_matched.h5\")\n",
    "    key_table = pd.read_hdf(f\"../ExperimentalData/{windspeed}/body_trajec_matches.h5\")\n",
    "\n",
    "    # correct and synchronize data\n",
    "    trajec_df = correct_for_wind(trajec_df)\n",
    "    trajec_df = remove_irrelevant_trajectory_data(trajec_df)\n",
    "    synced_trajectory = sync_time(trajec_df)\n",
    "    body_df = remove_irrelevant_body_data(body_df)\n",
    "    synced_body = sync_time(body_df)\n",
    "\n",
    "    # merge all trajectory and body dfs \n",
    "    all_flies_body_and_trajectory = join_all_body_and_trajectory(synced_body, synced_trajectory, key_table)\n",
    "\n",
    "    # only consider dfs at or longer than 5 time steps\n",
    "    filtered_dfs = [df for df in all_flies_body_and_trajectory if len(df) > 12]\n",
    "\n",
    "    # augment fly dfs with addition fields for neural network\n",
    "    augmented_all_flies_body_and_trajectory = [augment_df(fly_body_and_trajectory) for fly_body_and_trajectory in filtered_dfs]\n",
    "\n",
    "    # concatenate all dataframes vertically\n",
    "    fly_data = pd.concat(augmented_all_flies_body_and_trajectory, ignore_index=True)\n",
    "    fly_data.to_csv(f\"../ExperimentalData/{windspeed}_corrected_fly_trajectories_with_body_orientations.csv\",index=False)"
   ]
  },
  {
   "cell_type": "code",
   "execution_count": 5,
   "id": "093368d9-8acf-43ea-a368-d9abe31645c7",
   "metadata": {
    "tags": []
   },
   "outputs": [],
   "source": [
    "# Read and concatenate all CSV files\n",
    "file_paths = [\"../ExperimentalData/30cms_corrected_fly_trajectories_with_body_orientations.csv\",\n",
    "              \"../ExperimentalData/40cms_corrected_fly_trajectories_with_body_orientations.csv\",\n",
    "              \"../ExperimentalData/60cms_corrected_fly_trajectories_with_body_orientations.csv\"]\n",
    "dataframes = [pd.read_csv(file) for file in file_paths]\n",
    "combined_df = pd.concat(dataframes, ignore_index=True)\n",
    "\n",
    "# Save the combined DataFrame to a new CSV file\n",
    "combined_df.to_csv('../ExperimentalData/combined_corrected_fly_trajectories_with_body_orientations.csv', index=False)"
   ]
  },
  {
   "cell_type": "code",
   "execution_count": null,
   "id": "31150644",
   "metadata": {},
   "outputs": [],
   "source": []
  }
 ],
 "metadata": {
  "kernelspec": {
   "display_name": "Python 3 (ipykernel)",
   "language": "python",
   "name": "python3"
  },
  "language_info": {
   "codemirror_mode": {
    "name": "ipython",
    "version": 3
   },
   "file_extension": ".py",
   "mimetype": "text/x-python",
   "name": "python",
   "nbconvert_exporter": "python",
   "pygments_lexer": "ipython3",
   "version": "3.10.12"
  }
 },
 "nbformat": 4,
 "nbformat_minor": 5
}
