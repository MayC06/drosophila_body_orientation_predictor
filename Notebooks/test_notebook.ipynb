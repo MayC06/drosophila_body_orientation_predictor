{
 "cells": [
  {
   "cell_type": "markdown",
   "id": "2e255348",
   "metadata": {},
   "source": [
    "### Import libraries and custom functions"
   ]
  },
  {
   "cell_type": "code",
   "execution_count": 1,
   "id": "00d7ea18-799d-4653-9d64-c4bd9ad3176e",
   "metadata": {
    "tags": []
   },
   "outputs": [],
   "source": [
    "# libraries\n",
    "import warnings\n",
    "warnings.filterwarnings('ignore')\n",
    "import pandas as pd\n",
    "import numpy as np\n",
    "\n",
    "# custom functions\n",
    "from CleanData import *\n",
    "from MergeData import *\n",
    "from AugmentData import *\n",
    "from CorrectHeading import *\n",
    "from PlotData import *"
   ]
  },
  {
   "cell_type": "markdown",
   "id": "b0de046b",
   "metadata": {},
   "source": [
    "### Correct, augment, and combine data"
   ]
  },
  {
   "cell_type": "code",
   "execution_count": 2,
   "id": "7453e8d2-4a57-46fe-bdcb-fa3de1e5f931",
   "metadata": {
    "tags": []
   },
   "outputs": [],
   "source": [
    "windspeeds = [\"30cms\", \"40cms\", \"60cms\"]\n",
    "\n",
    "for windspeed in windspeeds:\n",
    "    # import data \n",
    "    trajec_df = pd.read_hdf(f\"../ExperimentalData/{windspeed}/flight_trajectories_3d_HCS_odor_horizon_matched.h5\")\n",
    "    body_df = pd.read_hdf(f\"../ExperimentalData/{windspeed}/body_orientations_HCS_odor_horizon_matched.h5\")\n",
    "    key_table = pd.read_hdf(f\"../ExperimentalData/{windspeed}/body_trajec_matches.h5\")\n",
    "\n",
    "    # correct and synchronize data\n",
    "    trajec_df = correct_for_wind(trajec_df)\n",
    "    trajec_df = remove_irrelevant_trajectory_data(trajec_df)\n",
    "    synced_trajectory = sync_time(trajec_df)\n",
    "    body_df = remove_irrelevant_body_data(body_df)\n",
    "    synced_body = sync_time(body_df)\n",
    "\n",
    "    # merge all trajectory and body dfs \n",
    "    all_flies_body_and_trajectory = join_all_body_and_trajectory(synced_body, synced_trajectory, key_table)\n",
    "\n",
    "    # only consider dfs at or longer than 5 time steps\n",
    "    filtered_dfs = [df for df in all_flies_body_and_trajectory if len(df) > 12]\n",
    "\n",
    "    # augment fly dfs with addition fields for neural network\n",
    "    augmented_all_flies_body_and_trajectory = [augment_df(fly_body_and_trajectory) for fly_body_and_trajectory in filtered_dfs]\n",
    "\n",
    "    # concatenate all dataframes vertically\n",
    "    fly_data = pd.concat(augmented_all_flies_body_and_trajectory, ignore_index=True)\n",
    "    fly_data.to_csv(f\"../ExperimentalData/{windspeed}_corrected_fly_trajectories_with_body_orientations.csv\",index=False)"
   ]
  },
  {
   "cell_type": "code",
   "execution_count": 3,
   "id": "093368d9-8acf-43ea-a368-d9abe31645c7",
   "metadata": {
    "tags": []
   },
   "outputs": [],
   "source": [
    "# Read and concatenate all CSV files\n",
    "file_paths = [\"../ExperimentalData/30cms_corrected_fly_trajectories_with_body_orientations.csv\",\n",
    "              \"../ExperimentalData/40cms_corrected_fly_trajectories_with_body_orientations.csv\",\n",
    "              \"../ExperimentalData/60cms_corrected_fly_trajectories_with_body_orientations.csv\"]\n",
    "dataframes = [pd.read_csv(file) for file in file_paths]\n",
    "combined_df = pd.concat(dataframes, ignore_index=True)\n",
    "\n",
    "# Save the combined DataFrame to a new CSV file\n",
    "combined_df.to_csv('../ExperimentalData/combined_corrected_fly_trajectories_with_body_orientations.csv', index=False)"
   ]
  },
  {
   "cell_type": "code",
   "execution_count": 4,
   "id": "31150644",
   "metadata": {},
   "outputs": [],
   "source": [
    "windspeeds = [\"30cms\", \"40cms\", \"60cms\"]\n",
    "\n",
    "def import_and_clean_fly_data(windspeed=\"30cms\"):\n",
    "    # import data \n",
    "    trajec_df = pd.read_hdf(f\"../ExperimentalData/{windspeed}/flight_trajectories_3d_HCS_odor_horizon_matched.h5\")\n",
    "    body_df = pd.read_hdf(f\"../ExperimentalData/{windspeed}/body_orientations_HCS_odor_horizon_matched.h5\")\n",
    "    key_table = pd.read_hdf(f\"../ExperimentalData/{windspeed}/body_trajec_matches.h5\")\n",
    "\n",
    "    # correct and synchronize data\n",
    "    trajec_df = correct_for_wind(trajec_df)\n",
    "    trajec_df = remove_irrelevant_trajectory_data(trajec_df)\n",
    "    synced_trajectory = sync_time(trajec_df)\n",
    "    body_df = remove_irrelevant_body_data(body_df)\n",
    "    synced_body = sync_time(body_df)\n",
    "\n",
    "    # merge all trajectory and body dfs \n",
    "    all_flies_body_and_trajectory = join_all_body_and_trajectory(synced_body, synced_trajectory, key_table)\n",
    "\n",
    "    # only consider dfs at or longer than 5 time steps\n",
    "    filtered_dfs = [df for df in all_flies_body_and_trajectory if len(df) > 12]\n",
    "\n",
    "    # concatenate all dataframes vertically\n",
    "    fly_data = pd.concat(filtered_dfs, ignore_index=True)\n",
    "    return fly_data"
   ]
  },
  {
   "cell_type": "code",
   "execution_count": 5,
   "id": "58387a21",
   "metadata": {},
   "outputs": [],
   "source": [
    "fly_30 = import_and_clean_fly_data(windspeed=\"30cms\")\n",
    "fly_40 = import_and_clean_fly_data(windspeed=\"40cms\")\n",
    "fly_60 = import_and_clean_fly_data(windspeed=\"60cms\")"
   ]
  },
  {
   "cell_type": "code",
   "execution_count": 6,
   "id": "6f9547be",
   "metadata": {},
   "outputs": [],
   "source": [
    "all_fly_data = pd.concat([fly_30,fly_40,fly_60], ignore_index=True)"
   ]
  },
  {
   "cell_type": "code",
   "execution_count": 7,
   "id": "6ea7b516",
   "metadata": {},
   "outputs": [],
   "source": [
    "test_fly = all_fly_data.loc[all_fly_data[\"trajec_objid\"]==\"20130410_185709_5331\"].reset_index(drop=True)"
   ]
  },
  {
   "cell_type": "code",
   "execution_count": 8,
   "id": "42668806",
   "metadata": {},
   "outputs": [
    {
     "data": {
      "text/html": [
       "<div>\n",
       "<style scoped>\n",
       "    .dataframe tbody tr th:only-of-type {\n",
       "        vertical-align: middle;\n",
       "    }\n",
       "\n",
       "    .dataframe tbody tr th {\n",
       "        vertical-align: top;\n",
       "    }\n",
       "\n",
       "    .dataframe thead th {\n",
       "        text-align: right;\n",
       "    }\n",
       "</style>\n",
       "<table border=\"1\" class=\"dataframe\">\n",
       "  <thead>\n",
       "    <tr style=\"text-align: right;\">\n",
       "      <th></th>\n",
       "      <th>trajec_objid</th>\n",
       "      <th>timestamp</th>\n",
       "      <th>position_x</th>\n",
       "      <th>position_y</th>\n",
       "      <th>velocity_x</th>\n",
       "      <th>velocity_y</th>\n",
       "      <th>airvelocity_x</th>\n",
       "      <th>airvelocity_y</th>\n",
       "      <th>wind_speed</th>\n",
       "      <th>eccentricity</th>\n",
       "      <th>ellipse_short_angle</th>\n",
       "    </tr>\n",
       "  </thead>\n",
       "  <tbody>\n",
       "    <tr>\n",
       "      <th>0</th>\n",
       "      <td>20130410_185709_5331</td>\n",
       "      <td>1.61</td>\n",
       "      <td>0.203033</td>\n",
       "      <td>0.013733</td>\n",
       "      <td>-0.091000</td>\n",
       "      <td>0.275387</td>\n",
       "      <td>-0.691000</td>\n",
       "      <td>0.275387</td>\n",
       "      <td>0.6</td>\n",
       "      <td>0.500000</td>\n",
       "      <td>0.670505</td>\n",
       "    </tr>\n",
       "    <tr>\n",
       "      <th>1</th>\n",
       "      <td>20130410_185709_5331</td>\n",
       "      <td>1.62</td>\n",
       "      <td>0.202146</td>\n",
       "      <td>0.016509</td>\n",
       "      <td>-0.086795</td>\n",
       "      <td>0.280024</td>\n",
       "      <td>-0.686795</td>\n",
       "      <td>0.280024</td>\n",
       "      <td>0.6</td>\n",
       "      <td>0.655764</td>\n",
       "      <td>-2.306360</td>\n",
       "    </tr>\n",
       "    <tr>\n",
       "      <th>2</th>\n",
       "      <td>20130410_185709_5331</td>\n",
       "      <td>1.63</td>\n",
       "      <td>0.201278</td>\n",
       "      <td>0.019334</td>\n",
       "      <td>-0.088156</td>\n",
       "      <td>0.284984</td>\n",
       "      <td>-0.688156</td>\n",
       "      <td>0.284984</td>\n",
       "      <td>0.6</td>\n",
       "      <td>0.514622</td>\n",
       "      <td>0.756163</td>\n",
       "    </tr>\n",
       "    <tr>\n",
       "      <th>3</th>\n",
       "      <td>20130410_185709_5331</td>\n",
       "      <td>1.64</td>\n",
       "      <td>0.200363</td>\n",
       "      <td>0.022206</td>\n",
       "      <td>-0.095484</td>\n",
       "      <td>0.289130</td>\n",
       "      <td>-0.695484</td>\n",
       "      <td>0.289130</td>\n",
       "      <td>0.6</td>\n",
       "      <td>0.539953</td>\n",
       "      <td>0.705661</td>\n",
       "    </tr>\n",
       "    <tr>\n",
       "      <th>4</th>\n",
       "      <td>20130410_185709_5331</td>\n",
       "      <td>1.65</td>\n",
       "      <td>0.199360</td>\n",
       "      <td>0.025113</td>\n",
       "      <td>-0.105429</td>\n",
       "      <td>0.292016</td>\n",
       "      <td>-0.705429</td>\n",
       "      <td>0.292016</td>\n",
       "      <td>0.6</td>\n",
       "      <td>0.500000</td>\n",
       "      <td>-2.356194</td>\n",
       "    </tr>\n",
       "  </tbody>\n",
       "</table>\n",
       "</div>"
      ],
      "text/plain": [
       "           trajec_objid  timestamp  position_x  position_y  velocity_x  \\\n",
       "0  20130410_185709_5331       1.61    0.203033    0.013733   -0.091000   \n",
       "1  20130410_185709_5331       1.62    0.202146    0.016509   -0.086795   \n",
       "2  20130410_185709_5331       1.63    0.201278    0.019334   -0.088156   \n",
       "3  20130410_185709_5331       1.64    0.200363    0.022206   -0.095484   \n",
       "4  20130410_185709_5331       1.65    0.199360    0.025113   -0.105429   \n",
       "\n",
       "   velocity_y  airvelocity_x  airvelocity_y  wind_speed  eccentricity  \\\n",
       "0    0.275387      -0.691000       0.275387         0.6      0.500000   \n",
       "1    0.280024      -0.686795       0.280024         0.6      0.655764   \n",
       "2    0.284984      -0.688156       0.284984         0.6      0.514622   \n",
       "3    0.289130      -0.695484       0.289130         0.6      0.539953   \n",
       "4    0.292016      -0.705429       0.292016         0.6      0.500000   \n",
       "\n",
       "   ellipse_short_angle  \n",
       "0             0.670505  \n",
       "1            -2.306360  \n",
       "2             0.756163  \n",
       "3             0.705661  \n",
       "4            -2.356194  "
      ]
     },
     "execution_count": 8,
     "metadata": {},
     "output_type": "execute_result"
    }
   ],
   "source": [
    "test_fly.head()"
   ]
  },
  {
   "cell_type": "code",
   "execution_count": 10,
   "id": "cb049614",
   "metadata": {},
   "outputs": [],
   "source": [
    "test_fly.to_csv('../ExperimentalData/20130410_185709_5331.csv', index=False)"
   ]
  },
  {
   "cell_type": "code",
   "execution_count": 18,
   "id": "ee5bfac1",
   "metadata": {},
   "outputs": [],
   "source": [
    "test_fly = pd.read_csv('../ExperimentalData/20130410_185709_5331.csv')"
   ]
  },
  {
   "cell_type": "code",
   "execution_count": 19,
   "id": "e0a69289",
   "metadata": {},
   "outputs": [],
   "source": [
    "from AugmentData import _compute_angular_acceleration,_linear_acceleration,_compute_angular_velocity,_tranform_short_axis_to_heading_angle,_transform_timestamps_to_start_at_zero,_linear_acceleration"
   ]
  },
  {
   "cell_type": "code",
   "execution_count": 20,
   "id": "d6113067",
   "metadata": {},
   "outputs": [],
   "source": [
    "def _tranform_short_axis_to_heading_angle(angle):\n",
    "    angle = np.where(angle < 0, angle - np.pi / 2, angle)\n",
    "    angle = np.where(angle > 0, angle + np.pi / 2, angle)\n",
    "    return angle"
   ]
  },
  {
   "cell_type": "code",
   "execution_count": 21,
   "id": "b9eeeae5",
   "metadata": {},
   "outputs": [],
   "source": [
    "import utils\n",
    "import scipy\n",
    "import numpy as np\n",
    "from AugmentData import *\n",
    "from cvxpy.atoms.norm import norm\n",
    "from cvxpy.expressions.expression import Expression\n",
    "\n",
    "def correct_heading_jumps(traj):\n",
    "    \"\"\"\n",
    "    The heading values randomly jump 180 degrees. This function corrects for such jumps.\n",
    "\n",
    "    Parameters:\n",
    "    - fly_data (pd.DataFrame): initial df of fly data\n",
    "\n",
    "    Returns:\n",
    "    - corrected_fly_data (pd.DataFrame): fly data with corrected heading angles\n",
    "    \"\"\"\n",
    "\n",
    "    def circular_distance(angle1, angle2):\n",
    "        \"\"\"\n",
    "        Calculate the shortest distance between two angles on a 2D circle.\n",
    "        \n",
    "        Parameters:\n",
    "        angle1, angle2: Angles in radians.\n",
    "        \n",
    "        Returns:\n",
    "        float: Shortest distance between the two angles on the circle.\n",
    "        \"\"\"\n",
    "        # Normalize angles to range [0, 2π)\n",
    "        angle1 = angle1 % (2 * np.pi)\n",
    "        angle2 = angle2 % (2 * np.pi)\n",
    "        \n",
    "        # Calculate the direct distance and the wrapped-around distance\n",
    "        direct_distance = np.abs(angle1 - angle2)\n",
    "        wrapped_distance = 2 * np.pi - direct_distance\n",
    "        \n",
    "        # Return the shorter of the two distances\n",
    "        return min(direct_distance, wrapped_distance)\n",
    "    \n",
    "    traj_add = traj.copy()\n",
    "\n",
    "    # Heading\n",
    "    angle = traj_add['heading_angle'].values # heading_angle\n",
    "\n",
    "    # Align initial heading with course direction\n",
    "    initial_window = 5\n",
    "    course_direction = traj_add[\"groundspeed_angle\"]\n",
    "    circ_diff_start = circular_distance(scipy.stats.circmean(course_direction[0:initial_window], low=-np.pi, high=np.pi),\n",
    "                                        scipy.stats.circmean(angle[0:initial_window], low=-np.pi, high=np.pi))\n",
    "    if circ_diff_start > 0.5*np.pi:\n",
    "        angle = angle + np.pi * np.sign(circ_diff_start) \n",
    "\n",
    "    # Correct heading\n",
    "    corrected_heading_angle = np.unwrap(angle, period=np.pi, discont=0.5*np.pi)  # use unwrap function to detect pi flips\n",
    "    \n",
    "    # Align heading\n",
    "    phi_mean = scipy.stats.circmean(utils.wrapToPi(corrected_heading_angle), low=-np.pi, high=np.pi)\n",
    "    psi_mean = scipy.stats.circmean(utils.wrapToPi(course_direction), low=-np.pi, high=np.pi)\n",
    "    circ_diff = circular_distance(phi_mean, psi_mean)\n",
    "    \n",
    "    if circ_diff > 0.5*np.pi:\n",
    "        corrected_heading_angle = corrected_heading_angle + np.pi * np.sign(circ_diff)\n",
    "     \n",
    "    corrected_heading_angle = utils.wrapToPi(corrected_heading_angle)  # wrap\n",
    "    \n",
    "    return corrected_heading_angle"
   ]
  },
  {
   "cell_type": "code",
   "execution_count": 22,
   "id": "a6b0be1e",
   "metadata": {},
   "outputs": [],
   "source": [
    "def augment_df(fly_trajectory_and_body):\n",
    "    gnd_velocity_x, gnd_velocity_y = fly_trajectory_and_body[\"velocity_x\"],fly_trajectory_and_body[\"velocity_y\"]\n",
    "    fly_trajectory_and_body[\"groundspeed\"] = np.sqrt(gnd_velocity_x**2 + gnd_velocity_y**2)\n",
    "    fly_trajectory_and_body[\"groundspeed_angle\"] = np.arctan2(gnd_velocity_y,gnd_velocity_x)\n",
    "    \n",
    "    airspeed_x, airspeed_y = fly_trajectory_and_body[\"airvelocity_x\"],fly_trajectory_and_body[\"airvelocity_y\"]\n",
    "    fly_trajectory_and_body[\"airspeed\"] = np.sqrt(airspeed_x**2 + airspeed_y**2)\n",
    "    fly_trajectory_and_body[\"airspeed_angle\"] = np.arctan2(airspeed_y,airspeed_x)\n",
    "    \n",
    "    thrust_x, thrust_y = thrust(fly_trajectory_and_body)\n",
    "    fly_trajectory_and_body[\"thrust\"] = np.sqrt(thrust_x ** 2 + thrust_y ** 2)\n",
    "    fly_trajectory_and_body[\"thrust_angle\"] = np.arctan2(thrust_y, thrust_x)\n",
    "\n",
    "    accel_x, accel_y = _linear_acceleration(fly_trajectory_and_body)\n",
    "    fly_trajectory_and_body[\"linear_acceleration\"] = np.sqrt(accel_x ** 2 + accel_y ** 2)\n",
    "    fly_trajectory_and_body[\"linear_acceleration_angle\"] = np.arctan2(accel_y, accel_x)\n",
    "    \n",
    "    fly_trajectory_and_body = _transform_timestamps_to_start_at_zero(fly_trajectory_and_body)\n",
    "    fly_trajectory_and_body[\"heading_angle\"] = _tranform_short_axis_to_heading_angle(fly_trajectory_and_body['ellipse_short_angle'])\n",
    "    fly_trajectory_and_body[\"heading_angle\"] = correct_heading_jumps(fly_trajectory_and_body)\n",
    "    \n",
    "    fly_trajectory_and_body[\"angular_velocity\"] = _compute_angular_velocity(fly_trajectory_and_body)\n",
    "    fly_trajectory_and_body[\"angular_acceleration\"] = _compute_angular_acceleration(fly_trajectory_and_body)\n",
    "    return fly_trajectory_and_body"
   ]
  },
  {
   "cell_type": "code",
   "execution_count": 23,
   "id": "2ab1b6fb",
   "metadata": {},
   "outputs": [],
   "source": [
    "augmented_test_fly = augment_df(test_fly)"
   ]
  },
  {
   "cell_type": "code",
   "execution_count": 24,
   "id": "8342e1d8",
   "metadata": {},
   "outputs": [
    {
     "data": {
      "image/png": "[encoded data removed]",
      "text/plain": [
       "<Figure size 640x480 with 1 Axes>"
      ]
     },
     "metadata": {},
     "output_type": "display_data"
    }
   ],
   "source": [
    "plot_trajectory(augmented_test_fly,every_nth=4)"
   ]
  },
  {
   "cell_type": "code",
   "execution_count": null,
   "id": "7a7f1ca9",
   "metadata": {},
   "outputs": [],
   "source": []
  }
 ],
 "metadata": {
  "kernelspec": {
   "display_name": "Python 3 (ipykernel)",
   "language": "python",
   "name": "python3"
  },
  "language_info": {
   "codemirror_mode": {
    "name": "ipython",
    "version": 3
   },
   "file_extension": ".py",
   "mimetype": "text/x-python",
   "name": "python",
   "nbconvert_exporter": "python",
   "pygments_lexer": "ipython3",
   "version": "3.10.12"
  }
 },
 "nbformat": 4,
 "nbformat_minor": 5
}
